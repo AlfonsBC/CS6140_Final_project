{
 "cells": [
  {
   "cell_type": "markdown",
   "id": "f0bcee14-6582-4695-b6ee-9554d7d93017",
   "metadata": {},
   "source": [
    "## Tutorial include Latent Variable in BN Structure\n",
    "Then use the Expectation-Maximization (EM) algorithm to learn the parameters to this variable\n",
    "\n",
    "1. Build the network with no LV and train it on complete data\n",
    "2. Identify an LV and how it interacts with model\n",
    "3. Add the LV to the model\n",
    "4. Establish constraints to the CPDs related to the LV\n",
    "5. Fit the CPDs related to the LV using the EM algorithm\n",
    "\n",
    "**Note**: CausalNex support only discrete distributions. So, each node should be discretized before applying \n"
   ]
  },
  {
   "cell_type": "code",
   "execution_count": 1,
   "id": "58d74dcd-d11d-4d92-b724-c973c7e248a9",
   "metadata": {},
   "outputs": [],
   "source": [
    "import numpy as np\n",
    "import pandas as pd\n",
    "\n",
    "url_data = \"./data/finalboot.csv\"\n",
    "df = pd.read_csv(url_data)\n",
    "df[\"LAT\"] = np.nan"
   ]
  },
  {
   "cell_type": "code",
   "execution_count": 3,
   "id": "2db26987-e082-4818-af95-3d303efc1fe6",
   "metadata": {},
   "outputs": [
    {
     "data": {
      "text/html": [
       "<div>\n",
       "<style scoped>\n",
       "    .dataframe tbody tr th:only-of-type {\n",
       "        vertical-align: middle;\n",
       "    }\n",
       "\n",
       "    .dataframe tbody tr th {\n",
       "        vertical-align: top;\n",
       "    }\n",
       "\n",
       "    .dataframe thead th {\n",
       "        text-align: right;\n",
       "    }\n",
       "</style>\n",
       "<table border=\"1\" class=\"dataframe\">\n",
       "  <thead>\n",
       "    <tr style=\"text-align: right;\">\n",
       "      <th></th>\n",
       "      <th>CHROM</th>\n",
       "      <th>POS</th>\n",
       "      <th>REF</th>\n",
       "      <th>ALT</th>\n",
       "      <th>GeneID</th>\n",
       "      <th>RS</th>\n",
       "      <th>DS</th>\n",
       "      <th>Y</th>\n",
       "      <th>REVEL</th>\n",
       "      <th>SAI</th>\n",
       "      <th>LAT</th>\n",
       "    </tr>\n",
       "  </thead>\n",
       "  <tbody>\n",
       "    <tr>\n",
       "      <th>0</th>\n",
       "      <td>1</td>\n",
       "      <td>1232279</td>\n",
       "      <td>A</td>\n",
       "      <td>G</td>\n",
       "      <td>126792.0</td>\n",
       "      <td>0.188</td>\n",
       "      <td>0.0</td>\n",
       "      <td>1</td>\n",
       "      <td>-2</td>\n",
       "      <td>I</td>\n",
       "      <td>NaN</td>\n",
       "    </tr>\n",
       "    <tr>\n",
       "      <th>1</th>\n",
       "      <td>1</td>\n",
       "      <td>1232280</td>\n",
       "      <td>T</td>\n",
       "      <td>A</td>\n",
       "      <td>126792.0</td>\n",
       "      <td>0.206</td>\n",
       "      <td>0.0</td>\n",
       "      <td>1</td>\n",
       "      <td>-2</td>\n",
       "      <td>I</td>\n",
       "      <td>NaN</td>\n",
       "    </tr>\n",
       "    <tr>\n",
       "      <th>2</th>\n",
       "      <td>1</td>\n",
       "      <td>1232280</td>\n",
       "      <td>T</td>\n",
       "      <td>C</td>\n",
       "      <td>126792.0</td>\n",
       "      <td>0.203</td>\n",
       "      <td>0.0</td>\n",
       "      <td>1</td>\n",
       "      <td>-2</td>\n",
       "      <td>I</td>\n",
       "      <td>NaN</td>\n",
       "    </tr>\n",
       "  </tbody>\n",
       "</table>\n",
       "</div>"
      ],
      "text/plain": [
       "  CHROM      POS REF ALT    GeneID     RS   DS  Y REVEL SAI  LAT\n",
       "0     1  1232279   A   G  126792.0  0.188  0.0  1    -2   I  NaN\n",
       "1     1  1232280   T   A  126792.0  0.206  0.0  1    -2   I  NaN\n",
       "2     1  1232280   T   C  126792.0  0.203  0.0  1    -2   I  NaN"
      ]
     },
     "execution_count": 3,
     "metadata": {},
     "output_type": "execute_result"
    }
   ],
   "source": [
    "df.head(3)"
   ]
  },
  {
   "cell_type": "code",
   "execution_count": 2,
   "id": "4fce79d9-d0f7-4026-bdc1-f42b68e3d932",
   "metadata": {},
   "outputs": [
    {
     "data": {
      "text/plain": [
       "(496831, 11)"
      ]
     },
     "execution_count": 2,
     "metadata": {},
     "output_type": "execute_result"
    }
   ],
   "source": [
    "df.shape"
   ]
  },
  {
   "cell_type": "code",
   "execution_count": 3,
   "id": "2ba473f9-b70c-450c-8f20-949ab27bcdaa",
   "metadata": {},
   "outputs": [],
   "source": [
    "import warnings\n",
    "from causalnex.structure import StructureModel\n",
    "warnings.filterwarnings(\"ignore\") # silence warnings\n",
    "sm = StructureModel()"
   ]
  },
  {
   "cell_type": "code",
   "execution_count": 4,
   "id": "b9726859-14f2-4c41-8b43-634aaff6c7cd",
   "metadata": {},
   "outputs": [],
   "source": [
    "sm.add_edges_from([\n",
    "    ('Y', 'REVEL'),\n",
    "    ('Y', 'SAI')\n",
    "])"
   ]
  },
  {
   "cell_type": "code",
   "execution_count": 5,
   "id": "a31ff2e4-4559-4c98-ad1b-27f44ea7ac3c",
   "metadata": {},
   "outputs": [
    {
     "data": {
      "text/plain": [
       "OutEdgeView([('Y', 'REVEL'), ('Y', 'SAI')])"
      ]
     },
     "execution_count": 5,
     "metadata": {},
     "output_type": "execute_result"
    }
   ],
   "source": [
    "sm.edges"
   ]
  },
  {
   "cell_type": "code",
   "execution_count": 6,
   "id": "8daa60af-05b5-4e95-8e07-8ac329427840",
   "metadata": {},
   "outputs": [
    {
     "name": "stdout",
     "output_type": "stream",
     "text": [
      "01_simple_plot.html\n"
     ]
    },
    {
     "data": {
      "text/html": [
       "\n",
       "        <iframe\n",
       "            width=\"100%\"\n",
       "            height=\"600px\"\n",
       "            src=\"01_simple_plot.html\"\n",
       "            frameborder=\"0\"\n",
       "            allowfullscreen\n",
       "            \n",
       "        ></iframe>\n",
       "        "
      ],
      "text/plain": [
       "<IPython.lib.display.IFrame at 0x7fa089e3ae50>"
      ]
     },
     "execution_count": 6,
     "metadata": {},
     "output_type": "execute_result"
    }
   ],
   "source": [
    "from causalnex.plots import plot_structure, NODE_STYLE, EDGE_STYLE\n",
    "\n",
    "viz = plot_structure(\n",
    "    sm,\n",
    "    all_node_attributes=NODE_STYLE.WEAK,\n",
    "    all_edge_attributes=EDGE_STYLE.WEAK,\n",
    ")\n",
    "viz.show(\"01_simple_plot.html\")"
   ]
  },
  {
   "cell_type": "code",
   "execution_count": 7,
   "id": "ff650abf-e5dd-4340-b936-7b059f8d4d77",
   "metadata": {},
   "outputs": [],
   "source": [
    "df_bn = df[[\"Y\",\"REVEL\",\"SAI\"]]"
   ]
  },
  {
   "cell_type": "code",
   "execution_count": 8,
   "id": "c331e31f-f72f-4c97-a343-a7ee649cb7af",
   "metadata": {},
   "outputs": [],
   "source": [
    "from sklearn.model_selection import train_test_split"
   ]
  },
  {
   "cell_type": "code",
   "execution_count": 9,
   "id": "f690597d-5224-4aa0-8320-8aed08fc5f1a",
   "metadata": {},
   "outputs": [],
   "source": [
    "train, test = train_test_split(df_bn, train_size=0.8, test_size=0.2, random_state=7)\n"
   ]
  },
  {
   "cell_type": "markdown",
   "id": "170fce35-6e17-4a36-92b0-825466476202",
   "metadata": {},
   "source": [
    "# Fitting with the data"
   ]
  },
  {
   "cell_type": "code",
   "execution_count": 8,
   "id": "1d8fea36-c340-40e9-a13f-419822bbfb8c",
   "metadata": {},
   "outputs": [],
   "source": [
    "from causalnex.network import BayesianNetwork\n",
    "bn = BayesianNetwork(sm)"
   ]
  },
  {
   "cell_type": "code",
   "execution_count": 9,
   "id": "6f100936-d31a-4c77-8ad2-f937368113b3",
   "metadata": {},
   "outputs": [
    {
     "data": {
      "text/plain": [
       "<causalnex.network.network.BayesianNetwork at 0x7fa089e43400>"
      ]
     },
     "execution_count": 9,
     "metadata": {},
     "output_type": "execute_result"
    }
   ],
   "source": [
    "bn.fit_node_states_and_cpds(df_bn)"
   ]
  },
  {
   "cell_type": "markdown",
   "id": "0fd7b914-ce53-4a62-9e1b-2fca858f998e",
   "metadata": {},
   "source": [
    "# Adding the LV to the network"
   ]
  },
  {
   "cell_type": "code",
   "execution_count": 10,
   "id": "2fd12282-cd2c-46ab-b0a2-f83323af24a0",
   "metadata": {},
   "outputs": [],
   "source": [
    "lat_edges_to_add = [('Y', 'LAT'),('LAT', 'REVEL'),('LAT', 'SAI')]\n",
    "\n",
    "lat_edges_to_remove = [('Y', 'REVEL'),('Y', 'SAI')]"
   ]
  },
  {
   "cell_type": "code",
   "execution_count": 11,
   "id": "ae3e9117-43e9-4804-bbf0-51c69484f4b1",
   "metadata": {},
   "outputs": [
    {
     "data": {
      "text/plain": [
       "<causalnex.network.network.BayesianNetwork at 0x7fa089e43400>"
      ]
     },
     "execution_count": 11,
     "metadata": {},
     "output_type": "execute_result"
    }
   ],
   "source": [
    "bn.add_node(node=\"LAT\", edges_to_add=lat_edges_to_add, edges_to_remove=lat_edges_to_remove)"
   ]
  },
  {
   "cell_type": "code",
   "execution_count": 12,
   "id": "72376921-f977-4e5e-9201-0ecb23ff6791",
   "metadata": {},
   "outputs": [
    {
     "name": "stdout",
     "output_type": "stream",
     "text": [
      "01_simple_plot.html\n"
     ]
    },
    {
     "data": {
      "text/html": [
       "\n",
       "        <iframe\n",
       "            width=\"100%\"\n",
       "            height=\"600px\"\n",
       "            src=\"01_simple_plot.html\"\n",
       "            frameborder=\"0\"\n",
       "            allowfullscreen\n",
       "            \n",
       "        ></iframe>\n",
       "        "
      ],
      "text/plain": [
       "<IPython.lib.display.IFrame at 0x7fa08ad5bdf0>"
      ]
     },
     "execution_count": 12,
     "metadata": {},
     "output_type": "execute_result"
    }
   ],
   "source": [
    "viz = plot_structure(\n",
    "    sm,\n",
    "    all_node_attributes=NODE_STYLE.WEAK,\n",
    "    all_edge_attributes=EDGE_STYLE.WEAK,\n",
    ")\n",
    "viz.show(\"01_simple_plot.html\")"
   ]
  },
  {
   "cell_type": "markdown",
   "id": "0a76f6f4-db47-4da1-932c-3179a3ad716f",
   "metadata": {},
   "source": [
    "### Estrablishing constrains to the parameters related to the LV"
   ]
  },
  {
   "cell_type": "code",
   "execution_count": 46,
   "id": "c906b92b-88ce-4b97-90aa-7bb298ebcb4b",
   "metadata": {},
   "outputs": [],
   "source": [
    "train[\"LAT\"] = np.nan"
   ]
  },
  {
   "cell_type": "code",
   "execution_count": 13,
   "id": "7dd074da-256a-4dcc-9b17-0cd308a5274c",
   "metadata": {},
   "outputs": [
    {
     "data": {
      "text/plain": [
       "<causalnex.network.network.BayesianNetwork at 0x7fa089e43400>"
      ]
     },
     "execution_count": 13,
     "metadata": {},
     "output_type": "execute_result"
    }
   ],
   "source": [
    "bn.fit_latent_cpds(\n",
    "    lv_name = \"LAT\",\n",
    "    lv_states=[0,1],\n",
    "    data=df,\n",
    "    n_runs=30,\n",
    ")"
   ]
  },
  {
   "cell_type": "markdown",
   "id": "d133f940-f839-4609-a1af-f00a501e45ef",
   "metadata": {},
   "source": [
    "We can also provide information about the priors and constrains for the latent node. We can try different states.  \n",
    "\n",
    "- The default boundaries for every parameter is $(0,1)$\n",
    "- The default priors are 0, and we can override these values "
   ]
  },
  {
   "cell_type": "code",
   "execution_count": 14,
   "id": "a9a45694-862f-467a-8a41-3a9ee265381d",
   "metadata": {},
   "outputs": [
    {
     "data": {
      "text/html": [
       "<div>\n",
       "<style scoped>\n",
       "    .dataframe tbody tr th:only-of-type {\n",
       "        vertical-align: middle;\n",
       "    }\n",
       "\n",
       "    .dataframe tbody tr th {\n",
       "        vertical-align: top;\n",
       "    }\n",
       "\n",
       "    .dataframe thead th {\n",
       "        text-align: right;\n",
       "    }\n",
       "</style>\n",
       "<table border=\"1\" class=\"dataframe\">\n",
       "  <thead>\n",
       "    <tr style=\"text-align: right;\">\n",
       "      <th></th>\n",
       "      <th></th>\n",
       "    </tr>\n",
       "    <tr>\n",
       "      <th>Y</th>\n",
       "      <th></th>\n",
       "    </tr>\n",
       "  </thead>\n",
       "  <tbody>\n",
       "    <tr>\n",
       "      <th>0</th>\n",
       "      <td>0.957106</td>\n",
       "    </tr>\n",
       "    <tr>\n",
       "      <th>1</th>\n",
       "      <td>0.042894</td>\n",
       "    </tr>\n",
       "  </tbody>\n",
       "</table>\n",
       "</div>"
      ],
      "text/plain": [
       "           \n",
       "Y          \n",
       "0  0.957106\n",
       "1  0.042894"
      ]
     },
     "execution_count": 14,
     "metadata": {},
     "output_type": "execute_result"
    }
   ],
   "source": [
    "bn.cpds['Y']"
   ]
  },
  {
   "cell_type": "code",
   "execution_count": 15,
   "id": "13ae3537-3f01-4551-9023-f219151709d1",
   "metadata": {},
   "outputs": [
    {
     "data": {
      "text/html": [
       "<div>\n",
       "<style scoped>\n",
       "    .dataframe tbody tr th:only-of-type {\n",
       "        vertical-align: middle;\n",
       "    }\n",
       "\n",
       "    .dataframe tbody tr th {\n",
       "        vertical-align: top;\n",
       "    }\n",
       "\n",
       "    .dataframe thead tr th {\n",
       "        text-align: left;\n",
       "    }\n",
       "\n",
       "    .dataframe thead tr:last-of-type th {\n",
       "        text-align: right;\n",
       "    }\n",
       "</style>\n",
       "<table border=\"1\" class=\"dataframe\">\n",
       "  <thead>\n",
       "    <tr>\n",
       "      <th>Y</th>\n",
       "      <th>0</th>\n",
       "      <th>1</th>\n",
       "    </tr>\n",
       "    <tr>\n",
       "      <th>LAT</th>\n",
       "      <th></th>\n",
       "      <th></th>\n",
       "    </tr>\n",
       "  </thead>\n",
       "  <tbody>\n",
       "    <tr>\n",
       "      <th>0</th>\n",
       "      <td>0.066065</td>\n",
       "      <td>0.999999</td>\n",
       "    </tr>\n",
       "    <tr>\n",
       "      <th>1</th>\n",
       "      <td>0.933935</td>\n",
       "      <td>0.000001</td>\n",
       "    </tr>\n",
       "  </tbody>\n",
       "</table>\n",
       "</div>"
      ],
      "text/plain": [
       "Y           0         1\n",
       "LAT                    \n",
       "0    0.066065  0.999999\n",
       "1    0.933935  0.000001"
      ]
     },
     "execution_count": 15,
     "metadata": {},
     "output_type": "execute_result"
    }
   ],
   "source": [
    "bn.cpds['LAT']"
   ]
  },
  {
   "cell_type": "code",
   "execution_count": 16,
   "id": "4923a018-c15c-4907-bd10-35526e010713",
   "metadata": {
    "scrolled": true
   },
   "outputs": [
    {
     "data": {
      "text/html": [
       "<div>\n",
       "<style scoped>\n",
       "    .dataframe tbody tr th:only-of-type {\n",
       "        vertical-align: middle;\n",
       "    }\n",
       "\n",
       "    .dataframe tbody tr th {\n",
       "        vertical-align: top;\n",
       "    }\n",
       "\n",
       "    .dataframe thead tr th {\n",
       "        text-align: left;\n",
       "    }\n",
       "\n",
       "    .dataframe thead tr:last-of-type th {\n",
       "        text-align: right;\n",
       "    }\n",
       "</style>\n",
       "<table border=\"1\" class=\"dataframe\">\n",
       "  <thead>\n",
       "    <tr>\n",
       "      <th>LAT</th>\n",
       "      <th>0</th>\n",
       "      <th>1</th>\n",
       "    </tr>\n",
       "    <tr>\n",
       "      <th>SAI</th>\n",
       "      <th></th>\n",
       "      <th></th>\n",
       "    </tr>\n",
       "  </thead>\n",
       "  <tbody>\n",
       "    <tr>\n",
       "      <th>+1</th>\n",
       "      <td>0.016114</td>\n",
       "      <td>0.002527</td>\n",
       "    </tr>\n",
       "    <tr>\n",
       "      <th>+2</th>\n",
       "      <td>0.002346</td>\n",
       "      <td>0.000600</td>\n",
       "    </tr>\n",
       "    <tr>\n",
       "      <th>I</th>\n",
       "      <td>0.981540</td>\n",
       "      <td>0.996873</td>\n",
       "    </tr>\n",
       "  </tbody>\n",
       "</table>\n",
       "</div>"
      ],
      "text/plain": [
       "LAT         0         1\n",
       "SAI                    \n",
       "+1   0.016114  0.002527\n",
       "+2   0.002346  0.000600\n",
       "I    0.981540  0.996873"
      ]
     },
     "execution_count": 16,
     "metadata": {},
     "output_type": "execute_result"
    }
   ],
   "source": [
    "bn.cpds['SAI']"
   ]
  },
  {
   "cell_type": "code",
   "execution_count": 17,
   "id": "b44ef2ec-4492-4360-8d86-d8a87d3056b8",
   "metadata": {},
   "outputs": [
    {
     "data": {
      "text/html": [
       "<div>\n",
       "<style scoped>\n",
       "    .dataframe tbody tr th:only-of-type {\n",
       "        vertical-align: middle;\n",
       "    }\n",
       "\n",
       "    .dataframe tbody tr th {\n",
       "        vertical-align: top;\n",
       "    }\n",
       "\n",
       "    .dataframe thead tr th {\n",
       "        text-align: left;\n",
       "    }\n",
       "\n",
       "    .dataframe thead tr:last-of-type th {\n",
       "        text-align: right;\n",
       "    }\n",
       "</style>\n",
       "<table border=\"1\" class=\"dataframe\">\n",
       "  <thead>\n",
       "    <tr>\n",
       "      <th>LAT</th>\n",
       "      <th>0</th>\n",
       "      <th>1</th>\n",
       "    </tr>\n",
       "    <tr>\n",
       "      <th>REVEL</th>\n",
       "      <th></th>\n",
       "      <th></th>\n",
       "    </tr>\n",
       "  </thead>\n",
       "  <tbody>\n",
       "    <tr>\n",
       "      <th>+1</th>\n",
       "      <td>0.158307</td>\n",
       "      <td>1.556179e-02</td>\n",
       "    </tr>\n",
       "    <tr>\n",
       "      <th>+2</th>\n",
       "      <td>0.231500</td>\n",
       "      <td>1.619213e-04</td>\n",
       "    </tr>\n",
       "    <tr>\n",
       "      <th>+3</th>\n",
       "      <td>0.141220</td>\n",
       "      <td>1.420845e-09</td>\n",
       "    </tr>\n",
       "    <tr>\n",
       "      <th>+4</th>\n",
       "      <td>0.147479</td>\n",
       "      <td>2.229892e-18</td>\n",
       "    </tr>\n",
       "    <tr>\n",
       "      <th>-1</th>\n",
       "      <td>0.041892</td>\n",
       "      <td>1.402624e-01</td>\n",
       "    </tr>\n",
       "    <tr>\n",
       "      <th>-2</th>\n",
       "      <td>0.030209</td>\n",
       "      <td>2.793804e-01</td>\n",
       "    </tr>\n",
       "    <tr>\n",
       "      <th>-3</th>\n",
       "      <td>0.013849</td>\n",
       "      <td>2.717417e-01</td>\n",
       "    </tr>\n",
       "    <tr>\n",
       "      <th>-4</th>\n",
       "      <td>0.032354</td>\n",
       "      <td>1.311810e-01</td>\n",
       "    </tr>\n",
       "    <tr>\n",
       "      <th>I</th>\n",
       "      <td>0.203190</td>\n",
       "      <td>1.617109e-01</td>\n",
       "    </tr>\n",
       "  </tbody>\n",
       "</table>\n",
       "</div>"
      ],
      "text/plain": [
       "LAT           0             1\n",
       "REVEL                        \n",
       "+1     0.158307  1.556179e-02\n",
       "+2     0.231500  1.619213e-04\n",
       "+3     0.141220  1.420845e-09\n",
       "+4     0.147479  2.229892e-18\n",
       "-1     0.041892  1.402624e-01\n",
       "-2     0.030209  2.793804e-01\n",
       "-3     0.013849  2.717417e-01\n",
       "-4     0.032354  1.311810e-01\n",
       "I      0.203190  1.617109e-01"
      ]
     },
     "execution_count": 17,
     "metadata": {},
     "output_type": "execute_result"
    }
   ],
   "source": [
    "bn.cpds['REVEL']"
   ]
  },
  {
   "cell_type": "markdown",
   "id": "90f2f160-b935-4372-a032-7581bfb088f7",
   "metadata": {},
   "source": [
    "Question to ask:\n",
    "1. How is the data that we want to fit in the BN?\n",
    "   - Are there any variants with missing scores?\n",
    "2. There is a good property if we are dealing with no missing data except in the LV itself) has the following property:\n",
    "\n",
    "   - Only parameters to be learned through the EM are the _CPDs_ of the LV itself and its children. The other parameters CPDs can be learned by MLE"
   ]
  },
  {
   "cell_type": "markdown",
   "id": "8b345dcf-298b-43c3-a78d-64d789997dce",
   "metadata": {},
   "source": [
    "### Querying the updated model"
   ]
  },
  {
   "cell_type": "code",
   "execution_count": null,
   "id": "19349763-e04c-45e0-9570-995df3d19efb",
   "metadata": {},
   "outputs": [],
   "source": [
    "from causalnex.inference import InferenceEngine\n",
    "ie = InferenceEngine(bn)\n",
    "ie.do_intervention()"
   ]
  }
 ],
 "metadata": {
  "kernelspec": {
   "display_name": "Python 3",
   "language": "python",
   "name": "python3"
  },
  "language_info": {
   "codemirror_mode": {
    "name": "ipython",
    "version": 3
   },
   "file_extension": ".py",
   "mimetype": "text/x-python",
   "name": "python",
   "nbconvert_exporter": "python",
   "pygments_lexer": "ipython3",
   "version": "3.8.18"
  }
 },
 "nbformat": 4,
 "nbformat_minor": 5
}
